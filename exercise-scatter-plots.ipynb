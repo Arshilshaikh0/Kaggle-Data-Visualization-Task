{
 "cells": [
  {
   "cell_type": "markdown",
   "id": "e8d4cac0",
   "metadata": {
    "papermill": {
     "duration": 0.009572,
     "end_time": "2022-08-13T20:52:12.578731",
     "exception": false,
     "start_time": "2022-08-13T20:52:12.569159",
     "status": "completed"
    },
    "tags": []
   },
   "source": [
    "**This notebook is an exercise in the [Data Visualization](https://www.kaggle.com/learn/data-visualization) course.  You can reference the tutorial at [this link](https://www.kaggle.com/alexisbcook/scatter-plots).**\n",
    "\n",
    "---\n"
   ]
  },
  {
   "cell_type": "markdown",
   "id": "8ecd509c",
   "metadata": {
    "papermill": {
     "duration": 0.007909,
     "end_time": "2022-08-13T20:52:12.595132",
     "exception": false,
     "start_time": "2022-08-13T20:52:12.587223",
     "status": "completed"
    },
    "tags": []
   },
   "source": [
    "In this exercise, you will use your new knowledge to propose a solution to a real-world scenario.  To succeed, you will need to import data into Python, answer questions using the data, and generate **scatter plots** to understand patterns in the data.\n",
    "\n",
    "## Scenario\n",
    "\n",
    "You work for a major candy producer, and your goal is to write a report that your company can use to guide the design of its next product.  Soon after starting your research, you stumble across this [very interesting dataset](https://fivethirtyeight.com/features/the-ultimate-halloween-candy-power-ranking/) containing results from a fun survey to crowdsource favorite candies.\n",
    "\n",
    "## Setup\n",
    "\n",
    "Run the next cell to import and configure the Python libraries that you need to complete the exercise."
   ]
  },
  {
   "cell_type": "code",
   "execution_count": 1,
   "id": "a53f85d1",
   "metadata": {
    "execution": {
     "iopub.execute_input": "2022-08-13T20:52:12.614572Z",
     "iopub.status.busy": "2022-08-13T20:52:12.613948Z",
     "iopub.status.idle": "2022-08-13T20:52:13.871574Z",
     "shell.execute_reply": "2022-08-13T20:52:13.870134Z"
    },
    "papermill": {
     "duration": 1.271169,
     "end_time": "2022-08-13T20:52:13.874701",
     "exception": false,
     "start_time": "2022-08-13T20:52:12.603532",
     "status": "completed"
    },
    "tags": []
   },
   "outputs": [
    {
     "name": "stdout",
     "output_type": "stream",
     "text": [
      "Setup Complete\n"
     ]
    }
   ],
   "source": [
    "import pandas as pd\n",
    "pd.plotting.register_matplotlib_converters()\n",
    "import matplotlib.pyplot as plt\n",
    "%matplotlib inline\n",
    "import seaborn as sns\n",
    "print(\"Setup Complete\")"
   ]
  },
  {
   "cell_type": "markdown",
   "id": "4aa916ea",
   "metadata": {
    "papermill": {
     "duration": 0.009154,
     "end_time": "2022-08-13T20:52:13.892582",
     "exception": false,
     "start_time": "2022-08-13T20:52:13.883428",
     "status": "completed"
    },
    "tags": []
   },
   "source": [
    "The questions below will give you feedback on your work. Run the following cell to set up our feedback system."
   ]
  },
  {
   "cell_type": "code",
   "execution_count": 2,
   "id": "8e5e94a0",
   "metadata": {
    "execution": {
     "iopub.execute_input": "2022-08-13T20:52:13.911707Z",
     "iopub.status.busy": "2022-08-13T20:52:13.911293Z",
     "iopub.status.idle": "2022-08-13T20:52:13.983715Z",
     "shell.execute_reply": "2022-08-13T20:52:13.981961Z"
    },
    "papermill": {
     "duration": 0.085315,
     "end_time": "2022-08-13T20:52:13.986576",
     "exception": false,
     "start_time": "2022-08-13T20:52:13.901261",
     "status": "completed"
    },
    "tags": []
   },
   "outputs": [
    {
     "name": "stdout",
     "output_type": "stream",
     "text": [
      "Setup Complete\n"
     ]
    }
   ],
   "source": [
    "# Set up code checking\n",
    "import os\n",
    "if not os.path.exists(\"../input/candy.csv\"):\n",
    "    os.symlink(\"../input/data-for-datavis/candy.csv\", \"../input/candy.csv\") \n",
    "from learntools.core import binder\n",
    "binder.bind(globals())\n",
    "from learntools.data_viz_to_coder.ex4 import *\n",
    "print(\"Setup Complete\")"
   ]
  },
  {
   "cell_type": "markdown",
   "id": "c6499250",
   "metadata": {
    "papermill": {
     "duration": 0.0083,
     "end_time": "2022-08-13T20:52:14.003824",
     "exception": false,
     "start_time": "2022-08-13T20:52:13.995524",
     "status": "completed"
    },
    "tags": []
   },
   "source": [
    "## Step 1: Load the Data\n",
    "\n",
    "Read the candy data file into `candy_data`.  Use the `\"id\"` column to label the rows."
   ]
  },
  {
   "cell_type": "code",
   "execution_count": 3,
   "id": "09a607c3",
   "metadata": {
    "execution": {
     "iopub.execute_input": "2022-08-13T20:52:14.023985Z",
     "iopub.status.busy": "2022-08-13T20:52:14.022882Z",
     "iopub.status.idle": "2022-08-13T20:52:14.039948Z",
     "shell.execute_reply": "2022-08-13T20:52:14.038742Z"
    },
    "papermill": {
     "duration": 0.03006,
     "end_time": "2022-08-13T20:52:14.042549",
     "exception": false,
     "start_time": "2022-08-13T20:52:14.012489",
     "status": "completed"
    },
    "tags": []
   },
   "outputs": [
    {
     "data": {
      "application/javascript": [
       "parent.postMessage({\"jupyterEvent\": \"custom.exercise_interaction\", \"data\": {\"outcomeType\": 1, \"valueTowardsCompletion\": 0.3333333333333333, \"interactionType\": 1, \"questionType\": 1, \"questionId\": \"1_LoadData\", \"learnToolsVersion\": \"0.3.4\", \"failureMessage\": \"\", \"exceptionClass\": \"\", \"trace\": \"\"}}, \"*\")"
      ],
      "text/plain": [
       "<IPython.core.display.Javascript object>"
      ]
     },
     "metadata": {},
     "output_type": "display_data"
    },
    {
     "data": {
      "text/markdown": [
       "<span style=\"color:#33cc33\">Correct</span>"
      ],
      "text/plain": [
       "Correct"
      ]
     },
     "metadata": {},
     "output_type": "display_data"
    }
   ],
   "source": [
    "# Path of the file to read\n",
    "candy_filepath = \"../input/candy.csv\"\n",
    "\n",
    "# Fill in the line below to read the file into a variable candy_data\n",
    "candy_data = pd.read_csv(candy_filepath, index_col=\"id\")\n",
    "\n",
    "# Run the line below with no changes to check that you've loaded the data correctly\n",
    "step_1.check()"
   ]
  },
  {
   "cell_type": "code",
   "execution_count": 4,
   "id": "a4bb3bc0",
   "metadata": {
    "execution": {
     "iopub.execute_input": "2022-08-13T20:52:14.063083Z",
     "iopub.status.busy": "2022-08-13T20:52:14.062647Z",
     "iopub.status.idle": "2022-08-13T20:52:14.067495Z",
     "shell.execute_reply": "2022-08-13T20:52:14.066319Z"
    },
    "papermill": {
     "duration": 0.017698,
     "end_time": "2022-08-13T20:52:14.069996",
     "exception": false,
     "start_time": "2022-08-13T20:52:14.052298",
     "status": "completed"
    },
    "tags": []
   },
   "outputs": [],
   "source": [
    "# Lines below will give you a hint or solution code\n",
    "#step_1.hint()\n",
    "#step_1.solution()"
   ]
  },
  {
   "cell_type": "markdown",
   "id": "4ba611b6",
   "metadata": {
    "papermill": {
     "duration": 0.008507,
     "end_time": "2022-08-13T20:52:14.087342",
     "exception": false,
     "start_time": "2022-08-13T20:52:14.078835",
     "status": "completed"
    },
    "tags": []
   },
   "source": [
    "## Step 2: Review the data\n",
    "\n",
    "Use a Python command to print the first five rows of the data."
   ]
  },
  {
   "cell_type": "code",
   "execution_count": 5,
   "id": "a634dc48",
   "metadata": {
    "execution": {
     "iopub.execute_input": "2022-08-13T20:52:14.106508Z",
     "iopub.status.busy": "2022-08-13T20:52:14.106116Z",
     "iopub.status.idle": "2022-08-13T20:52:14.129682Z",
     "shell.execute_reply": "2022-08-13T20:52:14.128281Z"
    },
    "papermill": {
     "duration": 0.03643,
     "end_time": "2022-08-13T20:52:14.132429",
     "exception": false,
     "start_time": "2022-08-13T20:52:14.095999",
     "status": "completed"
    },
    "tags": []
   },
   "outputs": [
    {
     "data": {
      "text/html": [
       "<div>\n",
       "<style scoped>\n",
       "    .dataframe tbody tr th:only-of-type {\n",
       "        vertical-align: middle;\n",
       "    }\n",
       "\n",
       "    .dataframe tbody tr th {\n",
       "        vertical-align: top;\n",
       "    }\n",
       "\n",
       "    .dataframe thead th {\n",
       "        text-align: right;\n",
       "    }\n",
       "</style>\n",
       "<table border=\"1\" class=\"dataframe\">\n",
       "  <thead>\n",
       "    <tr style=\"text-align: right;\">\n",
       "      <th></th>\n",
       "      <th>competitorname</th>\n",
       "      <th>chocolate</th>\n",
       "      <th>fruity</th>\n",
       "      <th>caramel</th>\n",
       "      <th>peanutyalmondy</th>\n",
       "      <th>nougat</th>\n",
       "      <th>crispedricewafer</th>\n",
       "      <th>hard</th>\n",
       "      <th>bar</th>\n",
       "      <th>pluribus</th>\n",
       "      <th>sugarpercent</th>\n",
       "      <th>pricepercent</th>\n",
       "      <th>winpercent</th>\n",
       "    </tr>\n",
       "    <tr>\n",
       "      <th>id</th>\n",
       "      <th></th>\n",
       "      <th></th>\n",
       "      <th></th>\n",
       "      <th></th>\n",
       "      <th></th>\n",
       "      <th></th>\n",
       "      <th></th>\n",
       "      <th></th>\n",
       "      <th></th>\n",
       "      <th></th>\n",
       "      <th></th>\n",
       "      <th></th>\n",
       "      <th></th>\n",
       "    </tr>\n",
       "  </thead>\n",
       "  <tbody>\n",
       "    <tr>\n",
       "      <th>0</th>\n",
       "      <td>100 Grand</td>\n",
       "      <td>Yes</td>\n",
       "      <td>No</td>\n",
       "      <td>Yes</td>\n",
       "      <td>No</td>\n",
       "      <td>No</td>\n",
       "      <td>Yes</td>\n",
       "      <td>No</td>\n",
       "      <td>Yes</td>\n",
       "      <td>No</td>\n",
       "      <td>0.732</td>\n",
       "      <td>0.860</td>\n",
       "      <td>66.971725</td>\n",
       "    </tr>\n",
       "    <tr>\n",
       "      <th>1</th>\n",
       "      <td>3 Musketeers</td>\n",
       "      <td>Yes</td>\n",
       "      <td>No</td>\n",
       "      <td>No</td>\n",
       "      <td>No</td>\n",
       "      <td>Yes</td>\n",
       "      <td>No</td>\n",
       "      <td>No</td>\n",
       "      <td>Yes</td>\n",
       "      <td>No</td>\n",
       "      <td>0.604</td>\n",
       "      <td>0.511</td>\n",
       "      <td>67.602936</td>\n",
       "    </tr>\n",
       "    <tr>\n",
       "      <th>2</th>\n",
       "      <td>Air Heads</td>\n",
       "      <td>No</td>\n",
       "      <td>Yes</td>\n",
       "      <td>No</td>\n",
       "      <td>No</td>\n",
       "      <td>No</td>\n",
       "      <td>No</td>\n",
       "      <td>No</td>\n",
       "      <td>No</td>\n",
       "      <td>No</td>\n",
       "      <td>0.906</td>\n",
       "      <td>0.511</td>\n",
       "      <td>52.341465</td>\n",
       "    </tr>\n",
       "    <tr>\n",
       "      <th>3</th>\n",
       "      <td>Almond Joy</td>\n",
       "      <td>Yes</td>\n",
       "      <td>No</td>\n",
       "      <td>No</td>\n",
       "      <td>Yes</td>\n",
       "      <td>No</td>\n",
       "      <td>No</td>\n",
       "      <td>No</td>\n",
       "      <td>Yes</td>\n",
       "      <td>No</td>\n",
       "      <td>0.465</td>\n",
       "      <td>0.767</td>\n",
       "      <td>50.347546</td>\n",
       "    </tr>\n",
       "    <tr>\n",
       "      <th>4</th>\n",
       "      <td>Baby Ruth</td>\n",
       "      <td>Yes</td>\n",
       "      <td>No</td>\n",
       "      <td>Yes</td>\n",
       "      <td>Yes</td>\n",
       "      <td>Yes</td>\n",
       "      <td>No</td>\n",
       "      <td>No</td>\n",
       "      <td>Yes</td>\n",
       "      <td>No</td>\n",
       "      <td>0.604</td>\n",
       "      <td>0.767</td>\n",
       "      <td>56.914547</td>\n",
       "    </tr>\n",
       "  </tbody>\n",
       "</table>\n",
       "</div>"
      ],
      "text/plain": [
       "   competitorname chocolate fruity caramel peanutyalmondy nougat  \\\n",
       "id                                                                 \n",
       "0       100 Grand       Yes     No     Yes             No     No   \n",
       "1    3 Musketeers       Yes     No      No             No    Yes   \n",
       "2       Air Heads        No    Yes      No             No     No   \n",
       "3      Almond Joy       Yes     No      No            Yes     No   \n",
       "4       Baby Ruth       Yes     No     Yes            Yes    Yes   \n",
       "\n",
       "   crispedricewafer hard  bar pluribus  sugarpercent  pricepercent  winpercent  \n",
       "id                                                                              \n",
       "0               Yes   No  Yes       No         0.732         0.860   66.971725  \n",
       "1                No   No  Yes       No         0.604         0.511   67.602936  \n",
       "2                No   No   No       No         0.906         0.511   52.341465  \n",
       "3                No   No  Yes       No         0.465         0.767   50.347546  \n",
       "4                No   No  Yes       No         0.604         0.767   56.914547  "
      ]
     },
     "execution_count": 5,
     "metadata": {},
     "output_type": "execute_result"
    }
   ],
   "source": [
    "# Print the first five rows of the data\n",
    "____ # Your code here\n",
    "\n",
    "candy_data.head()"
   ]
  },
  {
   "cell_type": "markdown",
   "id": "71dd6d61",
   "metadata": {
    "papermill": {
     "duration": 0.008665,
     "end_time": "2022-08-13T20:52:14.150200",
     "exception": false,
     "start_time": "2022-08-13T20:52:14.141535",
     "status": "completed"
    },
    "tags": []
   },
   "source": [
    "The dataset contains 83 rows, where each corresponds to a different candy bar.  There are 13 columns:\n",
    "- `'competitorname'` contains the name of the candy bar. \n",
    "- the next **9** columns (from `'chocolate'` to `'pluribus'`) describe the candy.  For instance, rows with chocolate candies have `\"Yes\"` in the `'chocolate'` column (and candies without chocolate have `\"No\"` in the same column).\n",
    "- `'sugarpercent'` provides some indication of the amount of sugar, where higher values signify higher sugar content.\n",
    "- `'pricepercent'` shows the price per unit, relative to the other candies in the dataset.\n",
    "- `'winpercent'` is calculated from the survey results; higher values indicate that the candy was more popular with survey respondents.\n",
    "\n",
    "Use the first five rows of the data to answer the questions below."
   ]
  },
  {
   "cell_type": "code",
   "execution_count": 6,
   "id": "8594278a",
   "metadata": {
    "execution": {
     "iopub.execute_input": "2022-08-13T20:52:14.173197Z",
     "iopub.status.busy": "2022-08-13T20:52:14.171896Z",
     "iopub.status.idle": "2022-08-13T20:52:14.183782Z",
     "shell.execute_reply": "2022-08-13T20:52:14.182431Z"
    },
    "papermill": {
     "duration": 0.025989,
     "end_time": "2022-08-13T20:52:14.186592",
     "exception": false,
     "start_time": "2022-08-13T20:52:14.160603",
     "status": "completed"
    },
    "tags": []
   },
   "outputs": [
    {
     "data": {
      "application/javascript": [
       "parent.postMessage({\"jupyterEvent\": \"custom.exercise_interaction\", \"data\": {\"outcomeType\": 1, \"valueTowardsCompletion\": 0.3333333333333333, \"interactionType\": 1, \"questionType\": 1, \"questionId\": \"2_ReviewData\", \"learnToolsVersion\": \"0.3.4\", \"failureMessage\": \"\", \"exceptionClass\": \"\", \"trace\": \"\"}}, \"*\")"
      ],
      "text/plain": [
       "<IPython.core.display.Javascript object>"
      ]
     },
     "metadata": {},
     "output_type": "display_data"
    },
    {
     "data": {
      "text/markdown": [
       "<span style=\"color:#33cc33\">Correct</span>"
      ],
      "text/plain": [
       "Correct"
      ]
     },
     "metadata": {},
     "output_type": "display_data"
    }
   ],
   "source": [
    "# Fill in the line below: Which candy was more popular with survey respondents:\n",
    "# '3 Musketeers' or 'Almond Joy'?  (Please enclose your answer in single quotes.)\n",
    "more_popular = '3 Musketeers'\n",
    "\n",
    "# Fill in the line below: Which candy has higher sugar content: 'Air Heads'\n",
    "# or 'Baby Ruth'? (Please enclose your answer in single quotes.)\n",
    "more_sugar = 'Air Heads'\n",
    "\n",
    "# Check your answers\n",
    "step_2.check()"
   ]
  },
  {
   "cell_type": "code",
   "execution_count": 7,
   "id": "50709eaf",
   "metadata": {
    "execution": {
     "iopub.execute_input": "2022-08-13T20:52:14.206997Z",
     "iopub.status.busy": "2022-08-13T20:52:14.206614Z",
     "iopub.status.idle": "2022-08-13T20:52:14.210898Z",
     "shell.execute_reply": "2022-08-13T20:52:14.210029Z"
    },
    "papermill": {
     "duration": 0.017101,
     "end_time": "2022-08-13T20:52:14.213001",
     "exception": false,
     "start_time": "2022-08-13T20:52:14.195900",
     "status": "completed"
    },
    "tags": []
   },
   "outputs": [],
   "source": [
    "# Lines below will give you a hint or solution code\n",
    "#step_2.hint()\n",
    "#step_2.solution()"
   ]
  },
  {
   "cell_type": "markdown",
   "id": "1ed3672d",
   "metadata": {
    "papermill": {
     "duration": 0.010298,
     "end_time": "2022-08-13T20:52:14.232821",
     "exception": false,
     "start_time": "2022-08-13T20:52:14.222523",
     "status": "completed"
    },
    "tags": []
   },
   "source": [
    "## Step 3: The role of sugar\n",
    "\n",
    "Do people tend to prefer candies with higher sugar content?  \n",
    "\n",
    "#### Part A\n",
    "\n",
    "Create a scatter plot that shows the relationship between `'sugarpercent'` (on the horizontal x-axis) and `'winpercent'` (on the vertical y-axis).  _Don't add a regression line just yet -- you'll do that in the next step!_"
   ]
  },
  {
   "cell_type": "code",
   "execution_count": 8,
   "id": "a0fc460f",
   "metadata": {
    "execution": {
     "iopub.execute_input": "2022-08-13T20:52:14.254385Z",
     "iopub.status.busy": "2022-08-13T20:52:14.253897Z",
     "iopub.status.idle": "2022-08-13T20:52:14.507073Z",
     "shell.execute_reply": "2022-08-13T20:52:14.505765Z"
    },
    "papermill": {
     "duration": 0.267208,
     "end_time": "2022-08-13T20:52:14.509747",
     "exception": false,
     "start_time": "2022-08-13T20:52:14.242539",
     "status": "completed"
    },
    "tags": []
   },
   "outputs": [
    {
     "data": {
      "application/javascript": [
       "parent.postMessage({\"jupyterEvent\": \"custom.exercise_interaction\", \"data\": {\"outcomeType\": 1, \"valueTowardsCompletion\": 0.3333333333333333, \"interactionType\": 1, \"questionType\": 2, \"questionId\": \"3.1_PlotBlueScatter\", \"learnToolsVersion\": \"0.3.4\", \"failureMessage\": \"\", \"exceptionClass\": \"\", \"trace\": \"\"}}, \"*\")"
      ],
      "text/plain": [
       "<IPython.core.display.Javascript object>"
      ]
     },
     "metadata": {},
     "output_type": "display_data"
    },
    {
     "data": {
      "text/markdown": [
       "<span style=\"color:#33cc33\">Correct</span>"
      ],
      "text/plain": [
       "Correct"
      ]
     },
     "metadata": {},
     "output_type": "display_data"
    },
    {
     "data": {
      "image/png": "[encoded data removed]",
      "text/plain": [
       "<Figure size 432x288 with 1 Axes>"
      ]
     },
     "metadata": {
      "needs_background": "light"
     },
     "output_type": "display_data"
    }
   ],
   "source": [
    "# Scatter plot showing the relationship between 'sugarpercent' and 'winpercent'\n",
    "____ # Your code here\n",
    "sns.scatterplot(x=candy_data['sugarpercent'], y=candy_data['winpercent'])\n",
    "# Check your answer\n",
    "step_3.a.check()"
   ]
  },
  {
   "cell_type": "code",
   "execution_count": 9,
   "id": "b0f5e234",
   "metadata": {
    "execution": {
     "iopub.execute_input": "2022-08-13T20:52:14.531458Z",
     "iopub.status.busy": "2022-08-13T20:52:14.530986Z",
     "iopub.status.idle": "2022-08-13T20:52:14.535889Z",
     "shell.execute_reply": "2022-08-13T20:52:14.534664Z"
    },
    "papermill": {
     "duration": 0.018277,
     "end_time": "2022-08-13T20:52:14.538158",
     "exception": false,
     "start_time": "2022-08-13T20:52:14.519881",
     "status": "completed"
    },
    "tags": []
   },
   "outputs": [],
   "source": [
    "# Lines below will give you a hint or solution code\n",
    "#step_3.a.hint()\n",
    "#step_3.a.solution_plot()"
   ]
  },
  {
   "cell_type": "markdown",
   "id": "93133b4d",
   "metadata": {
    "papermill": {
     "duration": 0.009584,
     "end_time": "2022-08-13T20:52:14.557894",
     "exception": false,
     "start_time": "2022-08-13T20:52:14.548310",
     "status": "completed"
    },
    "tags": []
   },
   "source": [
    "#### Part B\n",
    "\n",
    "Does the scatter plot show a **strong** correlation between the two variables?  If so, are candies with more sugar relatively more or less popular with the survey respondents?"
   ]
  },
  {
   "cell_type": "code",
   "execution_count": 10,
   "id": "ccea010b",
   "metadata": {
    "execution": {
     "iopub.execute_input": "2022-08-13T20:52:14.581028Z",
     "iopub.status.busy": "2022-08-13T20:52:14.580024Z",
     "iopub.status.idle": "2022-08-13T20:52:14.585050Z",
     "shell.execute_reply": "2022-08-13T20:52:14.584119Z"
    },
    "papermill": {
     "duration": 0.01889,
     "end_time": "2022-08-13T20:52:14.587496",
     "exception": false,
     "start_time": "2022-08-13T20:52:14.568606",
     "status": "completed"
    },
    "tags": []
   },
   "outputs": [],
   "source": [
    "#step_3.b.hint()"
   ]
  },
  {
   "cell_type": "code",
   "execution_count": 11,
   "id": "3fcce280",
   "metadata": {
    "execution": {
     "iopub.execute_input": "2022-08-13T20:52:14.610272Z",
     "iopub.status.busy": "2022-08-13T20:52:14.609541Z",
     "iopub.status.idle": "2022-08-13T20:52:14.618571Z",
     "shell.execute_reply": "2022-08-13T20:52:14.617658Z"
    },
    "papermill": {
     "duration": 0.023774,
     "end_time": "2022-08-13T20:52:14.621374",
     "exception": false,
     "start_time": "2022-08-13T20:52:14.597600",
     "status": "completed"
    },
    "tags": []
   },
   "outputs": [
    {
     "data": {
      "application/javascript": [
       "parent.postMessage({\"jupyterEvent\": \"custom.exercise_interaction\", \"data\": {\"interactionType\": 3, \"questionType\": 4, \"questionId\": \"3.2_ThinkBlueScatter\", \"learnToolsVersion\": \"0.3.4\", \"valueTowardsCompletion\": 0.0, \"failureMessage\": \"\", \"exceptionClass\": \"\", \"trace\": \"\", \"outcomeType\": 4}}, \"*\")"
      ],
      "text/plain": [
       "<IPython.core.display.Javascript object>"
      ]
     },
     "metadata": {},
     "output_type": "display_data"
    },
    {
     "data": {
      "text/markdown": [
       "<span style=\"color:#33cc99\">Solution:</span> The scatter plot does not show a strong correlation between the two variables. Since there is no clear relationship between the two variables, this tells us that sugar content does not play a strong role in candy popularity."
      ],
      "text/plain": [
       "Solution: The scatter plot does not show a strong correlation between the two variables. Since there is no clear relationship between the two variables, this tells us that sugar content does not play a strong role in candy popularity."
      ]
     },
     "metadata": {},
     "output_type": "display_data"
    }
   ],
   "source": [
    "# Check your answer (Run this code cell to receive credit!)\n",
    "step_3.b.solution()"
   ]
  },
  {
   "cell_type": "markdown",
   "id": "1025a79a",
   "metadata": {
    "papermill": {
     "duration": 0.009766,
     "end_time": "2022-08-13T20:52:14.641612",
     "exception": false,
     "start_time": "2022-08-13T20:52:14.631846",
     "status": "completed"
    },
    "tags": []
   },
   "source": [
    "## Step 4: Take a closer look\n",
    "\n",
    "#### Part A\n",
    "\n",
    "Create the same scatter plot you created in **Step 3**, but now with a regression line!"
   ]
  },
  {
   "cell_type": "code",
   "execution_count": 12,
   "id": "de6a2ca9",
   "metadata": {
    "execution": {
     "iopub.execute_input": "2022-08-13T20:52:14.663739Z",
     "iopub.status.busy": "2022-08-13T20:52:14.663313Z",
     "iopub.status.idle": "2022-08-13T20:52:14.956304Z",
     "shell.execute_reply": "2022-08-13T20:52:14.955139Z"
    },
    "papermill": {
     "duration": 0.306883,
     "end_time": "2022-08-13T20:52:14.958736",
     "exception": false,
     "start_time": "2022-08-13T20:52:14.651853",
     "status": "completed"
    },
    "tags": []
   },
   "outputs": [
    {
     "data": {
      "application/javascript": [
       "parent.postMessage({\"jupyterEvent\": \"custom.exercise_interaction\", \"data\": {\"outcomeType\": 1, \"valueTowardsCompletion\": 0.3333333333333333, \"interactionType\": 1, \"questionType\": 2, \"questionId\": \"4.1_PlotBlueReg\", \"learnToolsVersion\": \"0.3.4\", \"failureMessage\": \"\", \"exceptionClass\": \"\", \"trace\": \"\"}}, \"*\")"
      ],
      "text/plain": [
       "<IPython.core.display.Javascript object>"
      ]
     },
     "metadata": {},
     "output_type": "display_data"
    },
    {
     "data": {
      "text/markdown": [
       "<span style=\"color:#33cc33\">Correct</span>"
      ],
      "text/plain": [
       "Correct"
      ]
     },
     "metadata": {},
     "output_type": "display_data"
    },
    {
     "data": {
      "image/png": "[encoded data removed]",
      "text/plain": [
       "<Figure size 432x288 with 1 Axes>"
      ]
     },
     "metadata": {
      "needs_background": "light"
     },
     "output_type": "display_data"
    }
   ],
   "source": [
    "# Scatter plot w/ regression line showing the relationship between 'sugarpercent' and 'winpercent'\n",
    "____ # Your code here\n",
    "sns.regplot(x=candy_data['sugarpercent'], y=candy_data['winpercent'])\n",
    "# Check your answer\n",
    "step_4.a.check()"
   ]
  },
  {
   "cell_type": "code",
   "execution_count": 13,
   "id": "c8a39ef7",
   "metadata": {
    "execution": {
     "iopub.execute_input": "2022-08-13T20:52:14.983137Z",
     "iopub.status.busy": "2022-08-13T20:52:14.982183Z",
     "iopub.status.idle": "2022-08-13T20:52:14.987003Z",
     "shell.execute_reply": "2022-08-13T20:52:14.985865Z"
    },
    "papermill": {
     "duration": 0.019728,
     "end_time": "2022-08-13T20:52:14.989360",
     "exception": false,
     "start_time": "2022-08-13T20:52:14.969632",
     "status": "completed"
    },
    "tags": []
   },
   "outputs": [],
   "source": [
    "# Lines below will give you a hint or solution code\n",
    "#step_4.a.hint()\n",
    "#step_4.a.solution_plot()"
   ]
  },
  {
   "cell_type": "markdown",
   "id": "04d0b4d3",
   "metadata": {
    "papermill": {
     "duration": 0.010499,
     "end_time": "2022-08-13T20:52:15.010635",
     "exception": false,
     "start_time": "2022-08-13T20:52:15.000136",
     "status": "completed"
    },
    "tags": []
   },
   "source": [
    "#### Part B\n",
    "\n",
    "According to the plot above, is there a **slight** correlation between `'winpercent'` and `'sugarpercent'`?  What does this tell you about the candy that people tend to prefer?"
   ]
  },
  {
   "cell_type": "code",
   "execution_count": 14,
   "id": "8c0415cf",
   "metadata": {
    "execution": {
     "iopub.execute_input": "2022-08-13T20:52:15.034693Z",
     "iopub.status.busy": "2022-08-13T20:52:15.033662Z",
     "iopub.status.idle": "2022-08-13T20:52:15.038745Z",
     "shell.execute_reply": "2022-08-13T20:52:15.037884Z"
    },
    "papermill": {
     "duration": 0.019522,
     "end_time": "2022-08-13T20:52:15.041097",
     "exception": false,
     "start_time": "2022-08-13T20:52:15.021575",
     "status": "completed"
    },
    "tags": []
   },
   "outputs": [],
   "source": [
    "#step_4.b.hint()"
   ]
  },
  {
   "cell_type": "code",
   "execution_count": 15,
   "id": "f9b32d3a",
   "metadata": {
    "execution": {
     "iopub.execute_input": "2022-08-13T20:52:15.064949Z",
     "iopub.status.busy": "2022-08-13T20:52:15.064288Z",
     "iopub.status.idle": "2022-08-13T20:52:15.073421Z",
     "shell.execute_reply": "2022-08-13T20:52:15.072299Z"
    },
    "papermill": {
     "duration": 0.023897,
     "end_time": "2022-08-13T20:52:15.075841",
     "exception": false,
     "start_time": "2022-08-13T20:52:15.051944",
     "status": "completed"
    },
    "tags": []
   },
   "outputs": [
    {
     "data": {
      "application/javascript": [
       "parent.postMessage({\"jupyterEvent\": \"custom.exercise_interaction\", \"data\": {\"interactionType\": 3, \"questionType\": 4, \"questionId\": \"4.2_ThinkBlueReg\", \"learnToolsVersion\": \"0.3.4\", \"valueTowardsCompletion\": 0.0, \"failureMessage\": \"\", \"exceptionClass\": \"\", \"trace\": \"\", \"outcomeType\": 4}}, \"*\")"
      ],
      "text/plain": [
       "<IPython.core.display.Javascript object>"
      ]
     },
     "metadata": {},
     "output_type": "display_data"
    },
    {
     "data": {
      "text/markdown": [
       "<span style=\"color:#33cc99\">Solution:</span> Since the regression line has a slightly positive slope, this tells us that there is a slightly positive correlation between `'winpercent'` and `'sugarpercent'`. Thus, people have a slight preference for candies containing relatively more sugar."
      ],
      "text/plain": [
       "Solution: Since the regression line has a slightly positive slope, this tells us that there is a slightly positive correlation between `'winpercent'` and `'sugarpercent'`. Thus, people have a slight preference for candies containing relatively more sugar."
      ]
     },
     "metadata": {},
     "output_type": "display_data"
    }
   ],
   "source": [
    "# Check your answer (Run this code cell to receive credit!)\n",
    "step_4.b.solution()"
   ]
  },
  {
   "cell_type": "markdown",
   "id": "c1cb86fe",
   "metadata": {
    "papermill": {
     "duration": 0.010676,
     "end_time": "2022-08-13T20:52:15.097877",
     "exception": false,
     "start_time": "2022-08-13T20:52:15.087201",
     "status": "completed"
    },
    "tags": []
   },
   "source": [
    "## Step 5: Chocolate!\n",
    "\n",
    "In the code cell below, create a scatter plot to show the relationship between `'pricepercent'` (on the horizontal x-axis) and `'winpercent'` (on the vertical y-axis). Use the `'chocolate'` column to color-code the points.  _Don't add any regression lines just yet -- you'll do that in the next step!_"
   ]
  },
  {
   "cell_type": "code",
   "execution_count": 16,
   "id": "e80939d2",
   "metadata": {
    "execution": {
     "iopub.execute_input": "2022-08-13T20:52:15.122201Z",
     "iopub.status.busy": "2022-08-13T20:52:15.121755Z",
     "iopub.status.idle": "2022-08-13T20:52:15.390700Z",
     "shell.execute_reply": "2022-08-13T20:52:15.389400Z"
    },
    "papermill": {
     "duration": 0.284302,
     "end_time": "2022-08-13T20:52:15.393704",
     "exception": false,
     "start_time": "2022-08-13T20:52:15.109402",
     "status": "completed"
    },
    "tags": []
   },
   "outputs": [
    {
     "data": {
      "application/javascript": [
       "parent.postMessage({\"jupyterEvent\": \"custom.exercise_interaction\", \"data\": {\"outcomeType\": 1, \"valueTowardsCompletion\": 0.3333333333333333, \"interactionType\": 1, \"questionType\": 2, \"questionId\": \"5_ColorScatter\", \"learnToolsVersion\": \"0.3.4\", \"failureMessage\": \"\", \"exceptionClass\": \"\", \"trace\": \"\"}}, \"*\")"
      ],
      "text/plain": [
       "<IPython.core.display.Javascript object>"
      ]
     },
     "metadata": {},
     "output_type": "display_data"
    },
    {
     "data": {
      "text/markdown": [
       "<span style=\"color:#33cc33\">Correct</span>"
      ],
      "text/plain": [
       "Correct"
      ]
     },
     "metadata": {},
     "output_type": "display_data"
    },
    {
     "data": {
      "image/png": "[encoded data removed]",
      "text/plain": [
       "<Figure size 432x288 with 1 Axes>"
      ]
     },
     "metadata": {
      "needs_background": "light"
     },
     "output_type": "display_data"
    }
   ],
   "source": [
    "# Scatter plot showing the relationship between 'pricepercent', 'winpercent', and 'chocolate'\n",
    "____ # Your code here\n",
    "sns.scatterplot(x=candy_data['pricepercent'], y=candy_data['winpercent'], hue=candy_data['chocolate'])\n",
    "# Check your answer\n",
    "step_5.check()"
   ]
  },
  {
   "cell_type": "code",
   "execution_count": 17,
   "id": "2bbdc683",
   "metadata": {
    "execution": {
     "iopub.execute_input": "2022-08-13T20:52:15.419894Z",
     "iopub.status.busy": "2022-08-13T20:52:15.419216Z",
     "iopub.status.idle": "2022-08-13T20:52:15.424798Z",
     "shell.execute_reply": "2022-08-13T20:52:15.423563Z"
    },
    "papermill": {
     "duration": 0.021656,
     "end_time": "2022-08-13T20:52:15.427422",
     "exception": false,
     "start_time": "2022-08-13T20:52:15.405766",
     "status": "completed"
    },
    "tags": []
   },
   "outputs": [],
   "source": [
    "# Lines below will give you a hint or solution code\n",
    "#step_5.hint()\n",
    "#step_5.solution_plot()"
   ]
  },
  {
   "cell_type": "markdown",
   "id": "ba96b5aa",
   "metadata": {
    "papermill": {
     "duration": 0.011509,
     "end_time": "2022-08-13T20:52:15.451220",
     "exception": false,
     "start_time": "2022-08-13T20:52:15.439711",
     "status": "completed"
    },
    "tags": []
   },
   "source": [
    "Can you see any interesting patterns in the scatter plot?  We'll investigate this plot further  by adding regression lines in the next step!\n",
    "\n",
    "## Step 6: Investigate chocolate\n",
    "\n",
    "#### Part A\n",
    "\n",
    "Create the same scatter plot you created in **Step 5**, but now with two regression lines, corresponding to (1) chocolate candies and (2) candies without chocolate."
   ]
  },
  {
   "cell_type": "code",
   "execution_count": 18,
   "id": "41074ced",
   "metadata": {
    "execution": {
     "iopub.execute_input": "2022-08-13T20:52:15.477415Z",
     "iopub.status.busy": "2022-08-13T20:52:15.476597Z",
     "iopub.status.idle": "2022-08-13T20:52:16.071198Z",
     "shell.execute_reply": "2022-08-13T20:52:16.069881Z"
    },
    "papermill": {
     "duration": 0.610424,
     "end_time": "2022-08-13T20:52:16.073596",
     "exception": false,
     "start_time": "2022-08-13T20:52:15.463172",
     "status": "completed"
    },
    "tags": []
   },
   "outputs": [
    {
     "data": {
      "application/javascript": [
       "parent.postMessage({\"jupyterEvent\": \"custom.exercise_interaction\", \"data\": {\"outcomeType\": 1, \"valueTowardsCompletion\": 0.3333333333333333, \"interactionType\": 1, \"questionType\": 2, \"questionId\": \"6.1_PlotColorReg\", \"learnToolsVersion\": \"0.3.4\", \"failureMessage\": \"\", \"exceptionClass\": \"\", \"trace\": \"\"}}, \"*\")"
      ],
      "text/plain": [
       "<IPython.core.display.Javascript object>"
      ]
     },
     "metadata": {},
     "output_type": "display_data"
    },
    {
     "data": {
      "text/markdown": [
       "<span style=\"color:#33cc33\">Correct</span>"
      ],
      "text/plain": [
       "Correct"
      ]
     },
     "metadata": {},
     "output_type": "display_data"
    },
    {
     "data": {
      "image/png": "[encoded data removed]",
      "text/plain": [
       "<Figure size 416.375x360 with 1 Axes>"
      ]
     },
     "metadata": {
      "needs_background": "light"
     },
     "output_type": "display_data"
    }
   ],
   "source": [
    "# Color-coded scatter plot w/ regression lines\n",
    "____ # Your code here\n",
    "sns.lmplot(x=\"pricepercent\", y=\"winpercent\", hue=\"chocolate\", data=candy_data)\n",
    "# Check your answer\n",
    "step_6.a.check()"
   ]
  },
  {
   "cell_type": "code",
   "execution_count": 19,
   "id": "5db79b23",
   "metadata": {
    "execution": {
     "iopub.execute_input": "2022-08-13T20:52:16.101072Z",
     "iopub.status.busy": "2022-08-13T20:52:16.100298Z",
     "iopub.status.idle": "2022-08-13T20:52:16.104598Z",
     "shell.execute_reply": "2022-08-13T20:52:16.103478Z"
    },
    "papermill": {
     "duration": 0.020911,
     "end_time": "2022-08-13T20:52:16.107177",
     "exception": false,
     "start_time": "2022-08-13T20:52:16.086266",
     "status": "completed"
    },
    "tags": []
   },
   "outputs": [],
   "source": [
    "# Lines below will give you a hint or solution code\n",
    "#step_6.a.hint()\n",
    "#step_6.a.solution_plot()"
   ]
  },
  {
   "cell_type": "markdown",
   "id": "00593039",
   "metadata": {
    "papermill": {
     "duration": 0.012384,
     "end_time": "2022-08-13T20:52:16.132611",
     "exception": false,
     "start_time": "2022-08-13T20:52:16.120227",
     "status": "completed"
    },
    "tags": []
   },
   "source": [
    "#### Part B\n",
    "\n",
    "Using the regression lines, what conclusions can you draw about the effects of chocolate and price on candy popularity?"
   ]
  },
  {
   "cell_type": "code",
   "execution_count": 20,
   "id": "07a3800b",
   "metadata": {
    "execution": {
     "iopub.execute_input": "2022-08-13T20:52:16.160228Z",
     "iopub.status.busy": "2022-08-13T20:52:16.159732Z",
     "iopub.status.idle": "2022-08-13T20:52:16.165411Z",
     "shell.execute_reply": "2022-08-13T20:52:16.163887Z"
    },
    "papermill": {
     "duration": 0.022487,
     "end_time": "2022-08-13T20:52:16.167958",
     "exception": false,
     "start_time": "2022-08-13T20:52:16.145471",
     "status": "completed"
    },
    "tags": []
   },
   "outputs": [],
   "source": [
    "#step_6.b.hint()"
   ]
  },
  {
   "cell_type": "code",
   "execution_count": 21,
   "id": "a5349997",
   "metadata": {
    "execution": {
     "iopub.execute_input": "2022-08-13T20:52:16.194972Z",
     "iopub.status.busy": "2022-08-13T20:52:16.194567Z",
     "iopub.status.idle": "2022-08-13T20:52:16.204236Z",
     "shell.execute_reply": "2022-08-13T20:52:16.203120Z"
    },
    "papermill": {
     "duration": 0.02612,
     "end_time": "2022-08-13T20:52:16.206786",
     "exception": false,
     "start_time": "2022-08-13T20:52:16.180666",
     "status": "completed"
    },
    "tags": []
   },
   "outputs": [
    {
     "data": {
      "application/javascript": [
       "parent.postMessage({\"jupyterEvent\": \"custom.exercise_interaction\", \"data\": {\"interactionType\": 3, \"questionType\": 4, \"questionId\": \"6.2_ThinkColorReg\", \"learnToolsVersion\": \"0.3.4\", \"valueTowardsCompletion\": 0.0, \"failureMessage\": \"\", \"exceptionClass\": \"\", \"trace\": \"\", \"outcomeType\": 4}}, \"*\")"
      ],
      "text/plain": [
       "<IPython.core.display.Javascript object>"
      ]
     },
     "metadata": {},
     "output_type": "display_data"
    },
    {
     "data": {
      "text/markdown": [
       "<span style=\"color:#33cc99\">Solution:</span> We'll begin with the regression line for chocolate candies. Since this line has a slightly positive slope, we can say that more expensive chocolate candies tend to be more popular (than relatively cheaper chocolate candies).  Likewise, since the regression line for candies without chocolate has a negative slope, we can say that if candies don't contain chocolate, they tend to be more popular when they are cheaper.  One important note, however, is that the dataset is quite small -- so we shouldn't invest too much trust in these patterns!  To inspire more confidence in the results, we should add more candies to the dataset."
      ],
      "text/plain": [
       "Solution: We'll begin with the regression line for chocolate candies. Since this line has a slightly positive slope, we can say that more expensive chocolate candies tend to be more popular (than relatively cheaper chocolate candies).  Likewise, since the regression line for candies without chocolate has a negative slope, we can say that if candies don't contain chocolate, they tend to be more popular when they are cheaper.  One important note, however, is that the dataset is quite small -- so we shouldn't invest too much trust in these patterns!  To inspire more confidence in the results, we should add more candies to the dataset."
      ]
     },
     "metadata": {},
     "output_type": "display_data"
    }
   ],
   "source": [
    "# Check your answer (Run this code cell to receive credit!)\n",
    "step_6.b.solution()"
   ]
  },
  {
   "cell_type": "markdown",
   "id": "3c5c7561",
   "metadata": {
    "papermill": {
     "duration": 0.012482,
     "end_time": "2022-08-13T20:52:16.232311",
     "exception": false,
     "start_time": "2022-08-13T20:52:16.219829",
     "status": "completed"
    },
    "tags": []
   },
   "source": [
    "## Step 7: Everybody loves chocolate.\n",
    "\n",
    "#### Part A\n",
    "\n",
    "Create a categorical scatter plot to highlight the relationship between `'chocolate'` and `'winpercent'`.  Put `'chocolate'` on the (horizontal) x-axis, and `'winpercent'` on the (vertical) y-axis."
   ]
  },
  {
   "cell_type": "code",
   "execution_count": 22,
   "id": "bf477a00",
   "metadata": {
    "execution": {
     "iopub.execute_input": "2022-08-13T20:52:16.259405Z",
     "iopub.status.busy": "2022-08-13T20:52:16.258967Z",
     "iopub.status.idle": "2022-08-13T20:52:16.447677Z",
     "shell.execute_reply": "2022-08-13T20:52:16.446248Z"
    },
    "papermill": {
     "duration": 0.205173,
     "end_time": "2022-08-13T20:52:16.450219",
     "exception": false,
     "start_time": "2022-08-13T20:52:16.245046",
     "status": "completed"
    },
    "tags": []
   },
   "outputs": [
    {
     "data": {
      "application/javascript": [
       "parent.postMessage({\"jupyterEvent\": \"custom.exercise_interaction\", \"data\": {\"outcomeType\": 1, \"valueTowardsCompletion\": 0.3333333333333333, \"interactionType\": 1, \"questionType\": 2, \"questionId\": \"7.1_PlotSwarm\", \"learnToolsVersion\": \"0.3.4\", \"failureMessage\": \"\", \"exceptionClass\": \"\", \"trace\": \"\"}}, \"*\")"
      ],
      "text/plain": [
       "<IPython.core.display.Javascript object>"
      ]
     },
     "metadata": {},
     "output_type": "display_data"
    },
    {
     "data": {
      "text/markdown": [
       "<span style=\"color:#33cc33\">Correct</span>"
      ],
      "text/plain": [
       "Correct"
      ]
     },
     "metadata": {},
     "output_type": "display_data"
    },
    {
     "data": {
      "image/png": "[encoded data removed]",
      "text/plain": [
       "<Figure size 432x288 with 1 Axes>"
      ]
     },
     "metadata": {
      "needs_background": "light"
     },
     "output_type": "display_data"
    }
   ],
   "source": [
    "# Scatter plot showing the relationship between 'chocolate' and 'winpercent'\n",
    "____ # Your code here\n",
    "sns.swarmplot(x=candy_data['chocolate'], y=candy_data['winpercent'])\n",
    "\n",
    "# Check your answer\n",
    "step_7.a.check()"
   ]
  },
  {
   "cell_type": "code",
   "execution_count": 23,
   "id": "5d804889",
   "metadata": {
    "execution": {
     "iopub.execute_input": "2022-08-13T20:52:16.478985Z",
     "iopub.status.busy": "2022-08-13T20:52:16.478548Z",
     "iopub.status.idle": "2022-08-13T20:52:16.483295Z",
     "shell.execute_reply": "2022-08-13T20:52:16.482047Z"
    },
    "papermill": {
     "duration": 0.021932,
     "end_time": "2022-08-13T20:52:16.485705",
     "exception": false,
     "start_time": "2022-08-13T20:52:16.463773",
     "status": "completed"
    },
    "tags": []
   },
   "outputs": [],
   "source": [
    "# Lines below will give you a hint or solution code\n",
    "#step_7.a.hint()\n",
    "#step_7.a.solution_plot()"
   ]
  },
  {
   "cell_type": "markdown",
   "id": "5ca58b58",
   "metadata": {
    "papermill": {
     "duration": 0.013099,
     "end_time": "2022-08-13T20:52:16.512264",
     "exception": false,
     "start_time": "2022-08-13T20:52:16.499165",
     "status": "completed"
    },
    "tags": []
   },
   "source": [
    "#### Part B\n",
    "\n",
    "You decide to dedicate a section of your report to the fact that chocolate candies tend to be more popular than candies without chocolate.  Which plot is more appropriate to tell this story: the plot from **Step 6**, or the plot from **Step 7**?"
   ]
  },
  {
   "cell_type": "code",
   "execution_count": 24,
   "id": "39e6f083",
   "metadata": {
    "execution": {
     "iopub.execute_input": "2022-08-13T20:52:16.540860Z",
     "iopub.status.busy": "2022-08-13T20:52:16.540471Z",
     "iopub.status.idle": "2022-08-13T20:52:16.545289Z",
     "shell.execute_reply": "2022-08-13T20:52:16.543969Z"
    },
    "papermill": {
     "duration": 0.02196,
     "end_time": "2022-08-13T20:52:16.547796",
     "exception": false,
     "start_time": "2022-08-13T20:52:16.525836",
     "status": "completed"
    },
    "tags": []
   },
   "outputs": [],
   "source": [
    "#step_7.b.hint()"
   ]
  },
  {
   "cell_type": "code",
   "execution_count": 25,
   "id": "57c7a220",
   "metadata": {
    "execution": {
     "iopub.execute_input": "2022-08-13T20:52:16.576592Z",
     "iopub.status.busy": "2022-08-13T20:52:16.576172Z",
     "iopub.status.idle": "2022-08-13T20:52:16.585305Z",
     "shell.execute_reply": "2022-08-13T20:52:16.584108Z"
    },
    "papermill": {
     "duration": 0.02621,
     "end_time": "2022-08-13T20:52:16.587525",
     "exception": false,
     "start_time": "2022-08-13T20:52:16.561315",
     "status": "completed"
    },
    "tags": []
   },
   "outputs": [
    {
     "data": {
      "application/javascript": [
       "parent.postMessage({\"jupyterEvent\": \"custom.exercise_interaction\", \"data\": {\"interactionType\": 3, \"questionType\": 4, \"questionId\": \"7.2_ThinkSwarm\", \"learnToolsVersion\": \"0.3.4\", \"valueTowardsCompletion\": 0.0, \"failureMessage\": \"\", \"exceptionClass\": \"\", \"trace\": \"\", \"outcomeType\": 4}}, \"*\")"
      ],
      "text/plain": [
       "<IPython.core.display.Javascript object>"
      ]
     },
     "metadata": {},
     "output_type": "display_data"
    },
    {
     "data": {
      "text/markdown": [
       "<span style=\"color:#33cc99\">Solution:</span> In this case, the categorical scatter plot from **Step 7** is the more appropriate plot. While both plots tell the desired story, the plot from **Step 6** conveys far more information that could distract from the main point."
      ],
      "text/plain": [
       "Solution: In this case, the categorical scatter plot from **Step 7** is the more appropriate plot. While both plots tell the desired story, the plot from **Step 6** conveys far more information that could distract from the main point."
      ]
     },
     "metadata": {},
     "output_type": "display_data"
    }
   ],
   "source": [
    "# Check your answer (Run this code cell to receive credit!)\n",
    "step_7.b.solution()"
   ]
  },
  {
   "cell_type": "markdown",
   "id": "e4c314da",
   "metadata": {
    "papermill": {
     "duration": 0.013527,
     "end_time": "2022-08-13T20:52:16.614855",
     "exception": false,
     "start_time": "2022-08-13T20:52:16.601328",
     "status": "completed"
    },
    "tags": []
   },
   "source": [
    "## Keep going\n",
    "\n",
    "Explore **[histograms and density plots](https://www.kaggle.com/alexisbcook/distributions)**."
   ]
  },
  {
   "cell_type": "markdown",
   "id": "74b44da0",
   "metadata": {
    "papermill": {
     "duration": 0.014056,
     "end_time": "2022-08-13T20:52:16.642761",
     "exception": false,
     "start_time": "2022-08-13T20:52:16.628705",
     "status": "completed"
    },
    "tags": []
   },
   "source": [
    "---\n",
    "\n",
    "\n",
    "\n",
    "\n",
    "*Have questions or comments? Visit the [course discussion forum](https://www.kaggle.com/learn/data-visualization/discussion) to chat with other learners.*"
   ]
  }
 ],
 "metadata": {
  "kernelspec": {
   "display_name": "Python 3",
   "language": "python",
   "name": "python3"
  },
  "language_info": {
   "codemirror_mode": {
    "name": "ipython",
    "version": 3
   },
   "file_extension": ".py",
   "mimetype": "text/x-python",
   "name": "python",
   "nbconvert_exporter": "python",
   "pygments_lexer": "ipython3",
   "version": "3.7.12"
  },
  "papermill": {
   "default_parameters": {},
   "duration": 14.915321,
   "end_time": "2022-08-13T20:52:17.377995",
   "environment_variables": {},
   "exception": null,
   "input_path": "__notebook__.ipynb",
   "output_path": "__notebook__.ipynb",
   "parameters": {},
   "start_time": "2022-08-13T20:52:02.462674",
   "version": "2.3.4"
  }
 },
 "nbformat": 4,
 "nbformat_minor": 5
}
